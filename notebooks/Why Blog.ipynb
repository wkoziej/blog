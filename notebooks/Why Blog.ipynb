{
 "cells": [
  {
   "cell_type": "markdown",
   "metadata": {},
   "source": [
    "# Why should I write another blog\n",
    "So why another blog? Mainly because I want to check and improve myself. Secondly, I hope you will benefit."
   ]
  },
  {
   "cell_type": "markdown",
   "metadata": {},
   "source": [
    "## Inspirations"
   ]
  },
  {
   "cell_type": "markdown",
   "metadata": {},
   "source": [
    "Of course, there are [inspirations](https://www.fast.ai/2019/05/13/blogging-advice/) which made me start writing. And I want to master some skills:\n",
    " * to write in English\n",
    " * to create a post in [jupyter notebook](https://jupyter.org/) "
   ]
  },
  {
   "cell_type": "markdown",
   "metadata": {},
   "source": [
    "## First post\n",
    "So my first post describes how to create it in jupyter notebook and make it available for you on [github pages](https://wkoziej.github.io). \n"
   ]
  },
  {
   "cell_type": "markdown",
   "metadata": {},
   "source": [
    "### Create and name the notebook\n",
    "I assume you [installed](https://jupyter.org/install) jupyter notebook, so we can start writing the article locally. Create a new notebook and rename it to \"Why Blog?\" or your favourite name. We save this name into python variable called __notebook_name__"
   ]
  },
  {
   "cell_type": "code",
   "execution_count": 96,
   "metadata": {},
   "outputs": [],
   "source": [
    "notebook_name = 'Why Blog'"
   ]
  },
  {
   "cell_type": "markdown",
   "metadata": {},
   "source": [
    "### Assign a date to notebook name"
   ]
  },
  {
   "cell_type": "markdown",
   "metadata": {},
   "source": [
    "We will use [Jekyll](https://jekyllrb.com/) for serving post and that's why you should name your blogs using defined date format: YYYY-MM-DD. It allows grouping posts. Let's take the current date."
   ]
  },
  {
   "cell_type": "code",
   "execution_count": 97,
   "metadata": {},
   "outputs": [],
   "source": [
    "import datetime\n",
    "date = datetime.date.today()"
   ]
  },
  {
   "cell_type": "markdown",
   "metadata": {},
   "source": [
    "Now we can create posts name for Jekyll"
   ]
  },
  {
   "cell_type": "code",
   "execution_count": 98,
   "metadata": {},
   "outputs": [],
   "source": [
    "post_name=\"{}-{}\".format(date, notebook_name)"
   ]
  },
  {
   "cell_type": "markdown",
   "metadata": {},
   "source": [
    "### Convert notebook into markdown format"
   ]
  },
  {
   "cell_type": "markdown",
   "metadata": {},
   "source": [
    "Jekyll can serve markdown files and so we convert the post into markdown format using the great [nbconvert](https://nbconvert.readthedocs.io/en/latest/) tool. Make sure you have correct path to your notebook."
   ]
  },
  {
   "cell_type": "code",
   "execution_count": 99,
   "metadata": {},
   "outputs": [
    {
     "name": "stdout",
     "output_type": "stream",
     "text": [
      "'Why Blog.ipynb'\r\n"
     ]
    }
   ],
   "source": [
    "!ls \"{notebook_name}\".*"
   ]
  },
  {
   "cell_type": "markdown",
   "metadata": {},
   "source": [
    "Convert notebook format into markdown file"
   ]
  },
  {
   "cell_type": "code",
   "execution_count": 100,
   "metadata": {},
   "outputs": [
    {
     "name": "stdout",
     "output_type": "stream",
     "text": [
      "[NbConvertApp] Converting notebook Why Blog.ipynb to markdown\n",
      "[NbConvertApp] Support files will be in 2019-05-18-Why Blog_files/\n",
      "[NbConvertApp] Making directory /home/wojtas/dev/work/2019-05-18-Why Blog_files\n",
      "[NbConvertApp] Writing 5218 bytes to /home/wojtas/dev/work/2019-05-18-Why Blog.md\n"
     ]
    }
   ],
   "source": [
    "!jupyter nbconvert \"{notebook_name}.ipynb\" --to markdown --config jekyll.py --output=\"{post_name}\""
   ]
  },
  {
   "cell_type": "markdown",
   "metadata": {},
   "source": [
    "We created a couple of files in the workin directory __post_working_dir__. We save it name."
   ]
  },
  {
   "cell_type": "code",
   "execution_count": 109,
   "metadata": {},
   "outputs": [],
   "source": [
    "post_working_dir=!pwd\n",
    "post_working_dir = post_working_dir[0]"
   ]
  },
  {
   "cell_type": "markdown",
   "metadata": {},
   "source": [
    "I assume you created your [github project for blog purpose](https://pages.github.com/) and you have a local copy of your repo in __blog_working_directory__"
   ]
  },
  {
   "cell_type": "code",
   "execution_count": 57,
   "metadata": {},
   "outputs": [],
   "source": [
    "blog_working_dir=\"/home/wojtas/dev/blog\"\n",
    "!cp \"{post_working_dir}/{post_name}.md\" \"{blog_working_dir}/_posts\""
   ]
  },
  {
   "cell_type": "markdown",
   "metadata": {},
   "source": [
    "### Test it locally"
   ]
  },
  {
   "cell_type": "markdown",
   "metadata": {},
   "source": [
    "Go into __blog_working_directory__ and run jekyll server\n",
    "```\n",
    "bundle exec jekyll serve --incremental\n",
    "```"
   ]
  },
  {
   "cell_type": "markdown",
   "metadata": {},
   "source": [
    "### Push changes and test effects"
   ]
  },
  {
   "cell_type": "markdown",
   "metadata": {},
   "source": [
    "Go into your __blog_working_directory__ and add created post"
   ]
  },
  {
   "cell_type": "code",
   "execution_count": 62,
   "metadata": {},
   "outputs": [
    {
     "name": "stdout",
     "output_type": "stream",
     "text": [
      "[master aaf989c] First post\r\n",
      " 1 file changed, 167 insertions(+)\r\n",
      " create mode 100644 _posts/2019-05-18-Why Blog?.md\r\n"
     ]
    }
   ],
   "source": [
    "!cd {blog_working_dir} && git add \"{blog_working_dir}/_posts/{post_name}.md\" && git commit -m \"First post\""
   ]
  },
  {
   "cell_type": "markdown",
   "metadata": {},
   "source": [
    "Then push your changes wait a minute or two and check [your site](https://wkoziej.github.io) (replace you github login in url :)). You will see something similar to picture below:\n",
    "![why blog picture 1](/assets/images/WhyBlog1.png)\n",
    "\n",
    "Remember about proper path when referring images (see next section)."
   ]
  },
  {
   "cell_type": "markdown",
   "metadata": {},
   "source": [
    "## So, pictures"
   ]
  },
  {
   "cell_type": "markdown",
   "metadata": {},
   "source": [
    "Of course, you want to add some pictures into your notebook/blog. So you have to copy them into gitlab project too."
   ]
  },
  {
   "cell_type": "markdown",
   "metadata": {},
   "source": [
    "### Pictures generated by notebooks"
   ]
  },
  {
   "cell_type": "markdown",
   "metadata": {},
   "source": [
    "Let's create a simple image"
   ]
  },
  {
   "cell_type": "code",
   "execution_count": 114,
   "metadata": {},
   "outputs": [
    {
     "data": {
      "text/plain": [
       "Text(0, 0.5, 'Position (km)')"
      ]
     },
     "execution_count": 114,
     "metadata": {},
     "output_type": "execute_result"
    },
    {
     "data": {
      "image/png": "[encoded data removed]",
      "text/plain": [
       "<Figure size 432x288 with 1 Axes>"
      ]
     },
     "metadata": {
      "needs_background": "light"
     },
     "output_type": "display_data"
    }
   ],
   "source": [
    "%matplotlib inline\n",
    "import matplotlib.pyplot as plt\n",
    "time = [0, 1, 2, 3]\n",
    "position = [0, 100, 200, 300]\n",
    "\n",
    "plt.plot(time, position)\n",
    "plt.xlabel('Time (hr)')\n",
    "plt.ylabel('Position (km)')"
   ]
  },
  {
   "cell_type": "markdown",
   "metadata": {},
   "source": [
    "And copy all post images into the blog project "
   ]
  },
  {
   "cell_type": "code",
   "execution_count": 102,
   "metadata": {},
   "outputs": [],
   "source": [
    "!cp \"{post_working_dir}/{post_name}_files/\"*.png {blog_working_dir}/assets/images"
   ]
  },
  {
   "cell_type": "markdown",
   "metadata": {},
   "source": [
    "### Picture names are generated"
   ]
  },
  {
   "cell_type": "markdown",
   "metadata": {},
   "source": [
    "* Names of pictures generated by jupyter are alse generated so you have to add and commit into repo pictures connected with your generated post!\n",
    "* If you rerun your notebook conversion then nbconvert generates new pictures (and new links in markdown doc) so you should delete old ones from repo :("
   ]
  },
  {
   "cell_type": "markdown",
   "metadata": {},
   "source": [
    "### Path to pictures referred in notebook markdown"
   ]
  },
  {
   "cell_type": "markdown",
   "metadata": {},
   "source": [
    "If you want to include a picture in your notebook like this and test it locally you should make the correct folder in your system.\n",
    "\n",
    "For such reference\n",
    "```\n",
    "![why blog picture 1](images/WhyBlog1.png)\n",
    "```\n",
    "\n",
    "I don't know how to automate this yet :("
   ]
  },
  {
   "cell_type": "markdown",
   "metadata": {},
   "source": [
    "## All in one cell, to rule them all"
   ]
  },
  {
   "cell_type": "code",
   "execution_count": 115,
   "metadata": {},
   "outputs": [
    {
     "name": "stdout",
     "output_type": "stream",
     "text": [
      "[NbConvertApp] Converting notebook Why Blog.ipynb to markdown\n",
      "[NbConvertApp] Support files will be in 2019-05-18-Why Blog_files/\n",
      "[NbConvertApp] Making directory /home/wojtas/dev/work/2019-05-18-Why Blog_files\n",
      "[NbConvertApp] Writing 5836 bytes to /home/wojtas/dev/work/2019-05-18-Why Blog.md\n"
     ]
    }
   ],
   "source": [
    "!jupyter nbconvert \"{notebook_name}.ipynb\" --to markdown --config jekyll.py --output=\"{post_name}\"\n",
    "!cp \"{post_working_dir}/{post_name}_files/\"*.png {blog_working_dir}/assets/images\n",
    "!cp \"{post_working_dir}/{post_name}.md\" \"{blog_working_dir}/_posts\""
   ]
  },
  {
   "cell_type": "code",
   "execution_count": null,
   "metadata": {},
   "outputs": [],
   "source": []
  }
 ],
 "metadata": {
  "kernelspec": {
   "display_name": "Python 3",
   "language": "python",
   "name": "python3"
  },
  "language_info": {
   "codemirror_mode": {
    "name": "ipython",
    "version": 3
   },
   "file_extension": ".py",
   "mimetype": "text/x-python",
   "name": "python",
   "nbconvert_exporter": "python",
   "pygments_lexer": "ipython3",
   "version": "3.7.1"
  }
 },
 "nbformat": 4,
 "nbformat_minor": 2
}
